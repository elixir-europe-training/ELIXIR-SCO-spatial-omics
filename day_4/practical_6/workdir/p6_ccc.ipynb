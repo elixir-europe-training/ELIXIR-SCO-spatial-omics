{
 "cells": [
  {
   "cell_type": "markdown",
   "id": "fecb5478-3a2e-45e0-98a9-fff8a5b47739",
   "metadata": {},
   "source": [
    "# Practical 6: Cell-Cell Communication\n",
    "\n",
    "Author: Francesca Drummer\n",
    "\n",
    "In this notebook we will cover different methods to revocer cell-cell communication (CCC) in spatial transcriptomics. \n",
    "\n",
    "1. non-spatial CCC testing with spatial DE genes or post-processing filter (e.i. spatial distance) using CellPhoneDB\n",
    "2. MISTy\n",
    "\n",
    "To reduce the environment dependencies we will use the LIANA+ implementation of the methods. \n",
    "Please notice that the original tools might offer more functionalities. \n",
    "For that reason we will always link to the original publication and GitHub repository."
   ]
  },
  {
   "cell_type": "code",
   "execution_count": 50,
   "id": "cbb815f9-1dc6-48c4-ad86-c630a644a8f2",
   "metadata": {},
   "outputs": [],
   "source": [
    "import squidpy as sq\n",
    "import scanpy as sc\n",
    "\n",
    "from pathlib import Path\n",
    "import numpy as np\n",
    "\n",
    "from scipy.sparse import issparse, csr_matrix\n",
    "\n",
    "from liana.method import singlecellsignalr, connectome, cellphonedb, natmi, logfc, cellchat, geometric_mean"
   ]
  },
  {
   "cell_type": "markdown",
   "id": "64db979c-2aab-4ed9-aa81-2995a401239f",
   "metadata": {},
   "source": [
    "## 0. Download data"
   ]
  },
  {
   "cell_type": "markdown",
   "id": "b71a71d7",
   "metadata": {},
   "source": [
    "We will use the **Xenium AD dataset** from the previous notebooks here.\n",
    "\n",
    "As a reminder the dataset consists of 6 coronal mouse brain slices from 2 different conditions (wildtype - ctrl vs TgCRND8 - AD) across 3 timepoints. In this practical, we additionally have information about cell types available in  `adata.obs['cell_types']`. Please note that these annotation are not perfect. For example, there are quite some cells that could not be assigned to a cell type (NaN or \"unkown\"). These annotations have been made with on leiden clustering and marker genes reported in [this](https://pages.10xgenomics.com/rs/446-PBO-704/images/10x_LIT000210_App-Note_Xenium-In-Situ_Letter_Digital.pdf) document. \n",
    "\n",
    "In this practical we aim to understand the differences of the mouse brain between the two conditions and across the timepoints using niches and spatial domains."
   ]
  },
  {
   "cell_type": "code",
   "execution_count": 66,
   "id": "770895c8-4e32-42ab-947d-ea646e4c9c97",
   "metadata": {},
   "outputs": [],
   "source": [
    "PATH = \"/data/spatial_workshop/day3/practical_4\""
   ]
  },
  {
   "cell_type": "code",
   "execution_count": null,
   "id": "517e527b-f9bc-46a5-bd35-4bd9e214d684",
   "metadata": {},
   "outputs": [],
   "source": [
    "# load adata\n",
    "adata = sc.read_h5ad(Path(PATH, 'xenium_mouse_ad_annotated_rotated_domain.h5ad'))\n",
    "adata"
   ]
  },
  {
   "cell_type": "code",
   "execution_count": null,
   "id": "770ba75f-9475-4cf0-a97e-f39a32f32fe1",
   "metadata": {},
   "outputs": [],
   "source": [
    "print(adata.X[:2,:2])"
   ]
  },
  {
   "cell_type": "code",
   "execution_count": 69,
   "id": "7dd5fd19-95d3-4823-97ed-b2676d2ab21a",
   "metadata": {},
   "outputs": [],
   "source": [
    "adata.layers['counts'] = adata.X"
   ]
  },
  {
   "cell_type": "code",
   "execution_count": 70,
   "id": "a2d29a4b-1611-47d7-a748-d04364dde456",
   "metadata": {},
   "outputs": [],
   "source": [
    "# Normalization to the median\n",
    "sc.pp.normalize_total(adata)\n",
    "\n",
    "# Freeman-Tukey square root transform\n",
    "assert issparse(adata.X)\n",
    "sqrt_X = adata.X.sqrt()\n",
    "# Create a new sparse matrix for X + 1\n",
    "X_plus_1 = adata.X + csr_matrix(np.ones(adata.X.shape))\n",
    "# Calculate the square root of (X + 1)\n",
    "sqrt_X_plus_1 = X_plus_1.sqrt()\n",
    "adata.layers['median_ft'] = sqrt_X + sqrt_X_plus_1"
   ]
  },
  {
   "cell_type": "markdown",
   "id": "e626b882-b42e-4c96-b8f5-7e138256c6a8",
   "metadata": {},
   "source": [
    "## 0. Introduction to LIANA+\n",
    "\n",
    "[LIANA+](https://liana-py.readthedocs.io/en/latest/notebooks/basic_usage.html) is a toolbox in Python for various dissociated, multimodal and spatially informed cell-cell communication tools [Dimitrov et al., 2024]. \n",
    "\n",
    "First we install the package and observe which methods are implemented in LIANA+. \n",
    "Each method relies on different assumptions and returns a different ligand-receptor score. \n",
    "Usually, one score for the strength of the interaction (`magnitude`) and a score reflecting the `specifivity` of a interaction to a pair of cell identities. "
   ]
  },
  {
   "cell_type": "code",
   "execution_count": null,
   "id": "446adbc6-77b2-4001-a500-326888694246",
   "metadata": {},
   "outputs": [],
   "source": [
    "import liana as li\n",
    "\n",
    "li.mt.show_methods()"
   ]
  },
  {
   "cell_type": "markdown",
   "id": "2a0718ec-f444-4dbb-b45c-0cdf19a1c29f",
   "metadata": {},
   "source": [
    "Most CCC tools identify LR interaction. For this they rely on a extracting LR pairs from databases. There are diverse databases but LIANA+ has a consensus database that uses LR that are overlapping across databases. \n",
    "\n",
    "First, we need to ensure that there are LR-pairs present in the data to be detected for communication."
   ]
  },
  {
   "cell_type": "code",
   "execution_count": null,
   "id": "ce70328a-b6f3-462d-9476-d8908ddd0ca3",
   "metadata": {},
   "outputs": [],
   "source": [
    "print(li.resource.show_resources())\n",
    "resource_name = \"mouseconsensus\"  # Replace with the desired resource name if needed\n",
    "lr_pairs = li.resource.select_resource(resource_name)\n",
    "lr_pairs"
   ]
  },
  {
   "cell_type": "code",
   "execution_count": 73,
   "id": "74dec172-3e81-4871-bdff-0f0bc5de6cf4",
   "metadata": {},
   "outputs": [],
   "source": [
    "def lr_pairs_in_adata(adata):\n",
    "    genes_in_dataset = set(adata.var_names)  # Replace `adata.var_names` with your dataset's gene names if different\n",
    "    \n",
    "    # Filter the ligand-receptor pairs for those present in your dataset\n",
    "    filtered_lr_pairs = lr_pairs[\n",
    "        lr_pairs['ligand'].isin(genes_in_dataset) & lr_pairs['receptor'].isin(genes_in_dataset)\n",
    "    ]\n",
    "    \n",
    "    return filtered_lr_pairs\n",
    "    "
   ]
  },
  {
   "cell_type": "code",
   "execution_count": 74,
   "id": "7f5c2eec-7bc5-4558-8dcd-9c84c02c6f10",
   "metadata": {},
   "outputs": [],
   "source": [
    "filtered_lr_pairs = lr_pairs_in_adata(adata)"
   ]
  },
  {
   "cell_type": "markdown",
   "id": "a9e8b83f",
   "metadata": {},
   "source": [
    "<span style=\"color:red; font-weight:bold\">Task 1: How many ligand-receptor pairs are in the data?</span>"
   ]
  },
  {
   "cell_type": "code",
   "execution_count": null,
   "id": "55ecf380",
   "metadata": {},
   "outputs": [],
   "source": []
  },
  {
   "cell_type": "markdown",
   "id": "8c899d3d-0756-4b77-a500-7a8ac467a61e",
   "metadata": {},
   "source": [
    "In the following chapter, we will work with the CellPhoneDB method from LIANA+.\n",
    "\n",
    "## 1. CellPhoneDB: non-spatial CCC\n",
    "\n",
    "First, we will run CellPhoneDB as if we did not have any spatial information. "
   ]
  },
  {
   "cell_type": "code",
   "execution_count": null,
   "id": "e72f0b9c-a077-4ab9-b212-79241ce7275b",
   "metadata": {},
   "outputs": [],
   "source": [
    "sub_adata = adata[(adata.obs['time'] == '5_7') & (adata.obs['condition'] == 'TgCRND8')]\n",
    "sub_adata"
   ]
  },
  {
   "cell_type": "code",
   "execution_count": null,
   "id": "c673ded9",
   "metadata": {},
   "outputs": [],
   "source": [
    "cellphonedb(sub_adata,\n",
    "            groupby='cell_types',\n",
    "            # NOTE by default the resource uses HUMAN gene symbols\n",
    "            resource_name='mouseconsensus',\n",
    "            expr_prop=0.1,\n",
    "            verbose=True, \n",
    "            use_raw = False,\n",
    "            layer = 'counts',\n",
    "            key_added='cpdb_res')"
   ]
  },
  {
   "cell_type": "code",
   "execution_count": null,
   "id": "a0479344",
   "metadata": {},
   "outputs": [],
   "source": [
    "sub_adata.uns['cpdb_res'].head()"
   ]
  },
  {
   "cell_type": "markdown",
   "id": "e88facba",
   "metadata": {},
   "source": [
    "<div style=\"border: 1px solid #0000ff; padding: 10px; border-radius: 5px;\">\n",
    "<span style=\"color: #0000ff; font-size: 20px;\"><b>Interpretation</b></span> <span style=\"font-size: 20px;\">Liana+ scores</span>  \n",
    "\n",
    "<span></span>\n",
    "<ul>\n",
    "    <li>source and target columns represent the source/sender and target/receiver cell identity for each interaction, respectively</li>\n",
    "    <li>*_props: represents the proportion of cells that express the entity.</li>\n",
    "    <li>*_means: entity expression mean per cell type.</li>\n",
    "    <li>lr_means: mean ligand-receptor expression, as a measure of ligand-receptor interaction magnitude</li>\n",
    "</ul>"
   ]
  },
  {
   "cell_type": "markdown",
   "id": "126b818a",
   "metadata": {},
   "source": [
    "<span style=\"color:red; font-weight:bold\">Task 2: Plot the top 3 interacting complexes</span>"
   ]
  },
  {
   "cell_type": "code",
   "execution_count": null,
   "id": "5fdec397",
   "metadata": {},
   "outputs": [],
   "source": [
    "## TODO\n",
    "sq.pl.spatial_scatter(sub_adata, \n",
    "                      color=[],\n",
    "                      layer = 'median_ft',\n",
    "                     shape=None)"
   ]
  },
  {
   "cell_type": "code",
   "execution_count": null,
   "id": "35a3afec",
   "metadata": {},
   "outputs": [],
   "source": [
    "my_plot = li.pl.tileplot(adata = sub_adata,\n",
    "                         fill='means',\n",
    "                         label='props',\n",
    "                         label_fun=lambda x: f'{x:.2f}',\n",
    "                         top_n=30,\n",
    "                         orderby='cellphone_pvals',\n",
    "                         orderby_ascending=True,\n",
    "                         source_labels=['Astrocytes', 'Excitatory neurons', 'Inhibitory neurons', 'Microglia', 'OPC', 'Oligodendrocytes'],\n",
    "                         target_labels=['Astrocytes', 'Excitatory neurons', 'Inhibitory neurons', 'Microglia', 'OPC', 'Oligodendrocytes'],\n",
    "                         uns_key='cpdb_res', # NOTE: default is 'liana_res'\n",
    "                         source_title='Ligand',\n",
    "                         target_title='Receptor',\n",
    "                         figure_size=(8, 7)\n",
    "                         )\n",
    "my_plot"
   ]
  },
  {
   "cell_type": "markdown",
   "id": "a81de99e",
   "metadata": {},
   "source": [
    "<span style=\"color:red; font-weight:bold\">Question: What can we observe if we do not consider spatial information? Why could this be problematic?</span>"
   ]
  },
  {
   "cell_type": "markdown",
   "id": "a1da7174",
   "metadata": {},
   "source": [
    "To overcome this issue we will cover two possible appraoches to integrate spatial information into non-spatially aware CCC tools, like `CellPhoneDB`.\n",
    "\n",
    "1. Restrict the input to spatially variable genes. \n",
    "2. Post-processing of interactions using spatial proximity, e.i. niche information. "
   ]
  },
  {
   "cell_type": "markdown",
   "id": "f6695fd4-240f-44be-ae8b-ba850c219685",
   "metadata": {},
   "source": [
    "### Spatially-variable gene selection\n",
    "\n",
    "We use Moran's I score as a measure of spatial autocorrelation to identify spatially variable genes. \n",
    "\n",
    "For more information see: [Chapter 29: Spatially variable genes](https://www.sc-best-practices.org/spatial/spatially_variable_genes.html) from single-cell best practices.\n",
    "\n",
    "1. Calculate a spatial graph (`sq.gr.spatial_neighbors`)\n",
    "2. Calculate autocorrelation with [Morans I score](https://squidpy.readthedocs.io/en/stable/notebooks/examples/graph/compute_moran.html) (`sq.gr.spatial_autocorr`)"
   ]
  },
  {
   "cell_type": "code",
   "execution_count": null,
   "id": "e4bf5e1b-745d-4612-8a22-e4d15fb0dc7c",
   "metadata": {},
   "outputs": [],
   "source": [
    "print(sub_adata.X[:5,:5])"
   ]
  },
  {
   "cell_type": "code",
   "execution_count": 85,
   "id": "23903967",
   "metadata": {},
   "outputs": [],
   "source": [
    "sq.gr.spatial_neighbors(sub_adata, n_neighs=30, coord_type=\"generic\", key_added = 'neighs_based_spatial')\n"
   ]
  },
  {
   "cell_type": "code",
   "execution_count": null,
   "id": "bbf389e1",
   "metadata": {},
   "outputs": [],
   "source": [
    "sq.gr.interaction_matrix(sub_adata, cluster_key=\"cell_types\", connectivity_key = 'neighs_based_spatial', normalized=True)\n",
    "sq.pl.interaction_matrix(sub_adata, cluster_key=\"cell_types\")"
   ]
  },
  {
   "cell_type": "code",
   "execution_count": null,
   "id": "046a4e1f-30e4-4d0f-8b8f-2c771105e062",
   "metadata": {},
   "outputs": [],
   "source": [
    "sq.gr.spatial_autocorr(sub_adata, connectivity_key = \"neighs_based_spatial_connectivities\", mode=\"moran\", n_perms=50, genes=sub_adata.var_names)"
   ]
  },
  {
   "cell_type": "markdown",
   "id": "a0a0fc3a",
   "metadata": {},
   "source": [
    "Show and plot the top genes according to Moran's I score autocorrelation."
   ]
  },
  {
   "cell_type": "code",
   "execution_count": null,
   "id": "d6f3c60f-8a18-431e-9218-1f928867d625",
   "metadata": {},
   "outputs": [],
   "source": [
    "sub_adata.uns[\"moranI\"].head()"
   ]
  },
  {
   "cell_type": "markdown",
   "id": "a841cd8b",
   "metadata": {},
   "source": [
    "<div style=\"border: 1px solid #0000ff; padding: 10px; border-radius: 5px;\">\n",
    "<span style=\"color: #0000ff; font-size: 20px;\"><b>Moran's I score</b></span> <span style=\"font-size: 20px;\"></span>  \n",
    "\n",
    "<span></span>\n",
    "<ul>\n",
    "    <li>I so the Moran’s I,</li>\n",
    "    <li>pval_norm a p-value under normality assumption.</li>\n",
    "    <li>var_norm the variance of the Moran’s I under normality assumption.</li>\n",
    "    <li>{p_val}_{corr_method} the corrected p-values.</li>\n",
    "</ul>"
   ]
  },
  {
   "cell_type": "markdown",
   "id": "b6691d91",
   "metadata": {},
   "source": [
    "<span style=\"color:red; font-weight:bold\">Task 3: Plot the 3 genes with the highest I score.</span>"
   ]
  },
  {
   "cell_type": "code",
   "execution_count": null,
   "id": "5695f21f-2b98-4ffd-99da-46b34c625cfd",
   "metadata": {},
   "outputs": [],
   "source": [
    "# TODO\n",
    "sq.pl.spatial_scatter(sub_adata, \n",
    "                      color=[],\n",
    "                     shape=None)"
   ]
  },
  {
   "cell_type": "markdown",
   "id": "3a32681e-2545-4d23-8670-f025635199ca",
   "metadata": {},
   "source": [
    "<span style=\"color:red; font-weight:bold\">Task 4: Subset the data to include only genes that have a Morans I score higher than 0,2 and check that there are still relevant ligand-receptor pairs in the subdata.</span>"
   ]
  },
  {
   "cell_type": "code",
   "execution_count": null,
   "id": "8d005bbf-0ee0-428b-ae5c-b9d54ddac290",
   "metadata": {},
   "outputs": [],
   "source": [
    "# TODO\n",
    "sub_adata_svg = sub_adata[:, sub_adata.uns[\"moranI\"]['I'] > ???]\n",
    "sub_adata_svg"
   ]
  },
  {
   "cell_type": "code",
   "execution_count": null,
   "id": "93238851-6685-44ef-bb68-965287bbcb97",
   "metadata": {},
   "outputs": [],
   "source": [
    "# TODO\n"
   ]
  },
  {
   "cell_type": "markdown",
   "id": "caa8ed4c-0251-4afe-b7c6-4af5fb996255",
   "metadata": {},
   "source": [
    "#### CellPhoneDB"
   ]
  },
  {
   "cell_type": "code",
   "execution_count": null,
   "id": "5005588c-aaec-4f5e-9348-a33e7d9404f9",
   "metadata": {},
   "outputs": [],
   "source": [
    "cellphonedb(sub_adata_svg,\n",
    "            groupby='cell_types',\n",
    "            # NOTE by default the resource uses HUMAN gene symbols\n",
    "            resource_name='mouseconsensus',\n",
    "            expr_prop=0.1,\n",
    "            verbose=True, \n",
    "            use_raw = False,\n",
    "            layer = 'counts',\n",
    "            key_added='cpdb_res')"
   ]
  },
  {
   "cell_type": "code",
   "execution_count": null,
   "id": "319d455b-dbcf-4e3d-bc9f-59d695ac720d",
   "metadata": {},
   "outputs": [],
   "source": [
    "sub_adata_svg.uns['cpdb_res'].head()"
   ]
  },
  {
   "cell_type": "code",
   "execution_count": null,
   "id": "09ddf91a-8f47-4147-81c2-92f1add59257",
   "metadata": {},
   "outputs": [],
   "source": [
    "my_plot = li.pl.tileplot(adata = sub_adata_svg,\n",
    "                         fill='means',\n",
    "                         label='props',\n",
    "                         label_fun=lambda x: f'{x:.2f}',\n",
    "                         top_n=20,\n",
    "                         orderby='cellphone_pvals',\n",
    "                         orderby_ascending=True,\n",
    "                         source_labels=['Astrocytes', 'Excitatory neurons', 'Inhibitory neurons', 'Microglia', 'OPC', 'Oligodendrocytes'],\n",
    "                         target_labels=['Astrocytes'],\n",
    "                         uns_key='cpdb_res', # NOTE: default is 'liana_res'\n",
    "                         source_title='Ligand',\n",
    "                         target_title='Receptor',\n",
    "                         figure_size=(8, 7)\n",
    "                         )\n",
    "my_plot"
   ]
  },
  {
   "cell_type": "markdown",
   "id": "b4ff3906",
   "metadata": {},
   "source": [
    "<span style=\"color:red; font-weight:bold\">Question: What could be a potential limitation / problem with this approach?</span>"
   ]
  },
  {
   "cell_type": "markdown",
   "id": "6fa3947a-5be3-4e12-a797-049ae6887efa",
   "metadata": {},
   "source": [
    "<span style=\"color:red; font-weight:bold\">Optional Task: Compare the results for the healthy control or different time points. Do the CCC across cell types change?.</span>"
   ]
  },
  {
   "cell_type": "markdown",
   "id": "e4d294a8-3a90-4371-9245-281c726f7609",
   "metadata": {},
   "source": [
    "<span style=\"color:red; font-weight:bold\">Optional Task: Change the `expr_prop` in the CellPhoneDB function and try out some other tools like CellChat. How does it effect the results?.</span>"
   ]
  },
  {
   "cell_type": "markdown",
   "id": "71e131be",
   "metadata": {},
   "source": [
    "### Spatial proximity\n",
    "\n",
    "An alternative to pre-selecting spatially variable genes is by restricting the cells to be spatially close when they are communicating. For this we will be using the calculated spatial domains from the previous tutorial. "
   ]
  },
  {
   "cell_type": "code",
   "execution_count": null,
   "id": "7023873a",
   "metadata": {},
   "outputs": [],
   "source": [
    "sq.pl.spatial_scatter(sub_adata,\n",
    "                      color = ['cell_types', 'spatial_domain_temp'],\n",
    "                      shape=None)"
   ]
  },
  {
   "cell_type": "markdown",
   "id": "99a719e1",
   "metadata": {},
   "source": [
    "<span style=\"color:red; font-weight:bold\">Task 5: Choose a spatial domain cluster that contains a high proportion of the cell types you are interested in to understand the interaction. Tip: also check that the fraction of unkwon cells is low. </span>"
   ]
  },
  {
   "cell_type": "code",
   "execution_count": null,
   "id": "a7878a55",
   "metadata": {},
   "outputs": [],
   "source": [
    "def relative_abundances(adata, group_by, cell_type_key):\n",
    "    counts = adata.obs.groupby([group_by, cell_type_key]).size().unstack(fill_value=0)\n",
    "    relative_abundance = counts.div(counts.sum(axis=1), axis=0)\n",
    "    return relative_abundance"
   ]
  },
  {
   "cell_type": "code",
   "execution_count": null,
   "id": "0c98f574",
   "metadata": {},
   "outputs": [],
   "source": [
    "relative_abundances(sub_adata, group_by='spatial_domain_temp', cell_type_key='cell_types')"
   ]
  },
  {
   "cell_type": "code",
   "execution_count": null,
   "id": "4dc661e1",
   "metadata": {},
   "outputs": [],
   "source": [
    "## TODO\n",
    "domain = "
   ]
  },
  {
   "cell_type": "code",
   "execution_count": null,
   "id": "a9a45afe",
   "metadata": {},
   "outputs": [],
   "source": [
    "sub_adata_domain = sub_adata[sub_adata.obs['spatial_domain_temp'] == domain]\n",
    "sub_adata_domain"
   ]
  },
  {
   "cell_type": "code",
   "execution_count": null,
   "id": "7048cac4",
   "metadata": {},
   "outputs": [],
   "source": [
    "cellphonedb(sub_adata_domain,\n",
    "            groupby='cell_types',\n",
    "            # NOTE by default the resource uses HUMAN gene symbols\n",
    "            resource_name='mouseconsensus',\n",
    "            expr_prop=0.1,\n",
    "            verbose=True, \n",
    "            use_raw = False,\n",
    "            layer = 'counts',\n",
    "            key_added='cpdb_res')"
   ]
  },
  {
   "cell_type": "code",
   "execution_count": null,
   "id": "a162720e",
   "metadata": {},
   "outputs": [],
   "source": [
    "sub_adata_domain.uns['cpdb_res'].head()"
   ]
  },
  {
   "cell_type": "code",
   "execution_count": null,
   "id": "5f7f181c",
   "metadata": {},
   "outputs": [],
   "source": [
    "my_plot = li.pl.tileplot(adata = sub_adata_domain,\n",
    "                         fill='means',\n",
    "                         label='props',\n",
    "                         label_fun=lambda x: f'{x:.2f}',\n",
    "                         top_n=20,\n",
    "                         orderby='cellphone_pvals',\n",
    "                         orderby_ascending=True,\n",
    "                         source_labels=['Astrocytes', 'Excitatory neurons', 'Inhibitory neurons', 'Microglia', 'OPC', 'Oligodendrocytes'],\n",
    "                         target_labels=['Astrocytes', 'Excitatory neurons', 'Inhibitory neurons', 'Microglia', 'OPC', 'Oligodendrocytes'],\n",
    "                         uns_key='cpdb_res', # NOTE: default is 'liana_res'\n",
    "                         source_title='Ligand',\n",
    "                         target_title='Receptor',\n",
    "                         figure_size=(8, 7)\n",
    "                         )\n",
    "my_plot"
   ]
  },
  {
   "attachments": {},
   "cell_type": "markdown",
   "id": "30eea040-efd2-4d20-a890-395aebc68a03",
   "metadata": {},
   "source": [
    "## 3. MISTY\n",
    "\n",
    "[MISTy](https://liana-py.readthedocs.io/en/latest/notebooks/misty.html) is a framework that helps understand how different features, such as genes or cell types interact with each other in space. \n",
    "For this MISTy uses so called *views*, each describing a different spatial context.\n",
    "\n",
    "<img src=\"./figures/MISTy.png\" alt=\"Alt Text\" width=\"500\"/>"
   ]
  },
  {
   "cell_type": "code",
   "execution_count": 40,
   "id": "3d4a55b3-ccf7-44d1-bc77-4749b2ec91d4",
   "metadata": {},
   "outputs": [],
   "source": [
    "import scanpy as sc\n",
    "import decoupler as dc\n",
    "import plotnine as p9\n",
    "import liana as li\n",
    "\n",
    "# Import Helper functions needed to create MISTy objects\n",
    "from liana.method import MistyData, genericMistyData, lrMistyData\n",
    "\n",
    "#Import predefined single view models\n",
    "from liana.method.sp import RandomForestModel, LinearModel, RobustLinearModel"
   ]
  },
  {
   "cell_type": "markdown",
   "id": "1572273d-1f61-4dc4-89a7-3407f79eff32",
   "metadata": {},
   "source": [
    "### 3.1 Estimate pathway activities\n",
    "\n",
    "Before we run MISTy, let’s estimate pathway activities as a way to make the data a bit more interpretable. We will use [decoupler-py](https://academic.oup.com/bioinformaticsadvances/article/2/1/vbac016/6544613) with pathways genesets from [PROGENy](https://www.nature.com/articles/s41467-017-02391-6). See [this](https://decoupler-py.readthedocs.io/en/latest/notebooks/spatial.html) tutorial for details."
   ]
  },
  {
   "cell_type": "code",
   "execution_count": null,
   "id": "34b91419-f21b-4e7f-b1ed-85423d1bee40",
   "metadata": {},
   "outputs": [],
   "source": [
    "progeny = dc.get_progeny(organism='mouse', top=200)"
   ]
  },
  {
   "cell_type": "code",
   "execution_count": null,
   "id": "bc82bd52-7966-436b-b7b3-cb4312ab7970",
   "metadata": {},
   "outputs": [],
   "source": [
    "dc.run_mlm(\n",
    "    mat=adata,\n",
    "    net=progeny,\n",
    "    source='source',\n",
    "    target='target',\n",
    "    weight='weight',\n",
    "    verbose=True,\n",
    "    use_raw=False,\n",
    ")"
   ]
  },
  {
   "cell_type": "code",
   "execution_count": null,
   "id": "b6dae42c-938a-47fd-95bc-d1270f2db274",
   "metadata": {},
   "outputs": [],
   "source": [
    "# extract progeny activities as an AnnData object\n",
    "acts_progeny = li.ut.obsm_to_adata(adata, 'mlm_estimate')\n",
    "acts_progeny"
   ]
  },
  {
   "cell_type": "code",
   "execution_count": null,
   "id": "fe5a1dcf-1dd7-4b2a-8994-c868589a3b64",
   "metadata": {},
   "outputs": [],
   "source": [
    "acts_progeny.var_names"
   ]
  },
  {
   "cell_type": "code",
   "execution_count": null,
   "id": "307db84c-7620-48d9-be6a-9ec6c532e3bc",
   "metadata": {},
   "outputs": [],
   "source": [
    "# Check how the pathway activities look like\n",
    "for library_id in acts_progeny.obs[\"batch_key\"].unique():\n",
    "    adata_subset = acts_progeny[acts_progeny.obs[\"batch_key\"] == library_id]\n",
    "    print(f'Condition: {np.unique(adata_subset.obs[\"condition\"])[0]} and time: {np.unique(adata_subset.obs[\"time\"])[0]}')\n",
    "    sc.pl.spatial(\n",
    "        adata_subset, \n",
    "        color=['Androgen', 'Estrogen', 'TGFb', 'TNFa', 'VEGF', 'WNT', 'p53'], \n",
    "        cmap='RdBu_r', \n",
    "        spot_size=10,\n",
    "    )"
   ]
  },
  {
   "cell_type": "markdown",
   "id": "6660df4f-4509-477d-997e-844d22ff3876",
   "metadata": {},
   "source": [
    "### 3.2. Format MISTy object\n",
    "\n",
    "MISTy objects are in the [MuData](https://github.com/scverse/mudata) (Bredikhin et al., 2021) object with one modality per view. \n",
    "\n",
    "The *intra* view is the target variable "
   ]
  },
  {
   "cell_type": "code",
   "execution_count": null,
   "id": "fddf4239-ce97-49c9-ab96-c0652d62ff1e",
   "metadata": {},
   "outputs": [],
   "source": [
    "adata"
   ]
  },
  {
   "cell_type": "code",
   "execution_count": 33,
   "id": "f6c68a56-4990-4b44-a6aa-124cb3dab35d",
   "metadata": {},
   "outputs": [],
   "source": [
    "cell_assignments = adata.obs['cell_types'].astype(str)"
   ]
  },
  {
   "cell_type": "code",
   "execution_count": null,
   "id": "5bd4d803-3712-48b2-8fbb-ec760297a360",
   "metadata": {},
   "outputs": [],
   "source": [
    "np.unique(cell_assignments)"
   ]
  },
  {
   "cell_type": "code",
   "execution_count": null,
   "id": "52cc670d-b0d1-46d8-832b-a179587809d1",
   "metadata": {},
   "outputs": [],
   "source": [
    "import pandas as pd\n",
    "import anndata as ad\n",
    "\n",
    "one_hot_data = pd.get_dummies(cell_assignments)"
   ]
  },
  {
   "cell_type": "code",
   "execution_count": 36,
   "id": "65eb4b4c-ebdf-4822-8e8c-351434ddf088",
   "metadata": {},
   "outputs": [],
   "source": [
    "# Step 3: Create AnnData object\n",
    "adata_ct = ad.AnnData(\n",
    "    X=one_hot_data.values,  # One-hot encoding matrix\n",
    "    obs=pd.DataFrame(index=adata.obs_names),  # Cells as `.obs`\n",
    "    var=pd.DataFrame(index=np.unique(cell_assignments)),  # Cell types as `.var`\n",
    ")\n",
    "adata_ct.obsm['spatial'] = adata.obsm['spatial']"
   ]
  },
  {
   "cell_type": "code",
   "execution_count": 37,
   "id": "f582033b-817c-446a-b224-c744dedc4155",
   "metadata": {},
   "outputs": [],
   "source": [
    "# check key cell types\n",
    "# sc.pl.spatial(adata_ct,\n",
    "#               color=['OPC'],\n",
    "#               size=1.3, ncols=2, alpha_img=0,\n",
    "#               spot_size = 10\n",
    "#               )"
   ]
  },
  {
   "cell_type": "markdown",
   "id": "2a5fd3cf",
   "metadata": {},
   "source": [
    "`genericMistyData` constructs a `MuData` object with the intra view and the cell type proportions as the first view. Then it additionally build a \n",
    "1. *juxta* view for the spots that are neighbors of each other, and a\n",
    "2. *para* view for all surrounding spots within a certain radius, or bandwidth."
   ]
  },
  {
   "cell_type": "code",
   "execution_count": null,
   "id": "9c31ae7f-ef62-419d-956f-e30c87d7bfda",
   "metadata": {},
   "outputs": [],
   "source": [
    "misty = genericMistyData(intra=adata_ct, extra=acts_progeny, cutoff=0.05, bandwidth=200, n_neighs=6)\n",
    "misty"
   ]
  },
  {
   "cell_type": "markdown",
   "id": "4e0b877c-e77d-4275-81d0-bcad38db2d6b",
   "metadata": {},
   "source": [
    "## 3.3 Learn relationship with MISTy\n",
    "\n",
    "Now that we have constructed the object, we can learn the relationships across views. \n",
    "\n",
    "Reationships can be learned by different models (e.i. RandomForrest, LinearModel). The fastest is the Linear model which we will fit here for each target in the intra-view, using the juxta and para views as predictors."
   ]
  },
  {
   "cell_type": "code",
   "execution_count": null,
   "id": "2c075e48-2918-4b39-8a92-aadf63711de2",
   "metadata": {},
   "outputs": [],
   "source": [
    "misty(model=LinearModel, k_cv=10, seed=1337, bypass_intra=True, verbose = True)"
   ]
  },
  {
   "cell_type": "markdown",
   "id": "e987b2f4-7d94-4e8e-9a6f-ec0cb33591b6",
   "metadata": {},
   "source": [
    "By default the results are saved in the `misty` object because `inplace = True`.\n",
    "\n",
    "The `misty` object does now contain two DataFrames:\n",
    "\n",
    "- `target_metrics` describes the predictive performance of each view per target\n",
    "- `interactions` describes the feature importance per view"
   ]
  },
  {
   "cell_type": "code",
   "execution_count": null,
   "id": "4d3e4cf0",
   "metadata": {},
   "outputs": [],
   "source": [
    "misty.uns['target_metrics'].head()"
   ]
  },
  {
   "cell_type": "markdown",
   "id": "be703f6d",
   "metadata": {},
   "source": [
    "<div style=\"border: 1px solid #0000ff; padding: 10px; border-radius: 5px;\">\n",
    "<span style=\"color: #0000ff; font-size: 20px;\"><b>target metrics</b></span> <span style=\"font-size: 20px;\"></span>  \n",
    "\n",
    "<span></span>\n",
    "<ul>\n",
    "    <li>intra_R2: prediction performance using intraview</li>\n",
    "    <li>gain_R2: performance gain when we additionally consider the other views (in addition to intra)</li>\n",
    "</ul>"
   ]
  },
  {
   "cell_type": "code",
   "execution_count": null,
   "id": "9c4e6e14-4b60-4bf8-bd32-f28918ab7e2a",
   "metadata": {},
   "outputs": [],
   "source": [
    "li.pl.target_metrics(misty, stat='gain_R2', return_fig=True)"
   ]
  },
  {
   "cell_type": "code",
   "execution_count": null,
   "id": "435717ac-e170-4d91-aec0-8c11c7cee212",
   "metadata": {},
   "outputs": [],
   "source": [
    "li.pl.contributions(misty, return_fig=True)"
   ]
  },
  {
   "cell_type": "code",
   "execution_count": null,
   "id": "24f2006a-ab16-49d3-8972-79fd4b5c082b",
   "metadata": {},
   "outputs": [],
   "source": [
    "(\n",
    "    li.pl.interactions(misty, view='juxta', return_fig=True, figure_size=(7,5)) +\n",
    "    p9.scale_fill_gradient2(low = \"blue\", mid = \"white\", high = \"red\", midpoint = 0)\n",
    ")"
   ]
  },
  {
   "cell_type": "markdown",
   "id": "5bf13010-9ad9-4bae-8f7b-131fc4f3e122",
   "metadata": {},
   "source": [
    "<span style=\"color:red; font-weight:bold\">Fit a `RandomForestModel` instead. How does it effect the results and their interpretability?.</span>"
   ]
  },
  {
   "cell_type": "markdown",
   "id": "d6907609-a072-4cc3-bfec-76194069c0c3",
   "metadata": {},
   "source": [
    "# References\n",
    "\n",
    "[1] Dimitrov D., Schäfer P.S.L, Farr E., Rodriguez Mier P., Lobentanzer S., Badia-i-Mompel P., Dugourd A., Tanevski J., Ramirez Flores R.O. and Saez-Rodriguez J. LIANA+ provides an all-in-one framework for cell–cell communication inference. Nat Cell Biol (2024). https://doi.org/10.1038/s41556-024-01469-w\n",
    "\n",
    "[2] Li, Z., Wang, T., Liu, P. & Huang, Y. SpatialDM for rapid identification of spatially co-expressed ligand–receptor and revealing cell–cell communication patterns. Nat Commun 14, 3995 (2023).\n",
    "\n",
    "[3] Bredikhin, D., Kats, I. & Stegle, O. MUON: multimodal omics analysis framework. Genome Biol 23, 42 (2022). https://doi.org/10.1186/s13059-021-02577-8"
   ]
  }
 ],
 "metadata": {
  "kernelspec": {
   "display_name": "Python 3 (ipykernel)",
   "language": "python",
   "name": "python3"
  },
  "language_info": {
   "codemirror_mode": {
    "name": "ipython",
    "version": 3
   },
   "file_extension": ".py",
   "mimetype": "text/x-python",
   "name": "python",
   "nbconvert_exporter": "python",
   "pygments_lexer": "ipython3",
   "version": "3.11.11"
  }
 },
 "nbformat": 4,
 "nbformat_minor": 5
}
