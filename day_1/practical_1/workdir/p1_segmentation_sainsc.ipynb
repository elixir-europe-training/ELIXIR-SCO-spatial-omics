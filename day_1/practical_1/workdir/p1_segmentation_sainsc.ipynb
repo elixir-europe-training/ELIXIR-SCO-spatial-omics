{
 "cells": [
  {
   "cell_type": "markdown",
   "id": "6d0cbcec-e0be-4521-8286-23e5f5096819",
   "metadata": {},
   "source": [
    "## ELIXIR Spatial Transcriptomics Course\n",
    "### Practical 1b: Segmentation free cell identification using `sainsc`\n",
    "Date: 2025-01-22\n",
    "\n",
    "Author(s): Niklas Müller-Bötticher, Rasool Saghaleyni\n",
    "\n",
    "Author(s) email: niklas.mueller-boetticher@bih-charite.de, rasool.saghaleyni@scilifelab.\n",
    "\n",
    "⚠️ Note: The proper environment for this notebook is `p1_segmentation_sainsc`. It can be activated by selecting the kernel in the Jupyter notebook."
   ]
  },
  {
   "cell_type": "markdown",
   "id": "c9bd5b69-297c-4e60-b28f-308ab331f502",
   "metadata": {},
   "source": [
    "## Imports"
   ]
  },
  {
   "cell_type": "markdown",
   "id": "30e30618-a043-4c3a-8600-e62a7f3b87ab",
   "metadata": {},
   "source": [
    "First we are going to load all necessary packages for the analysis. \n",
    "\n",
    "We will use `sainsc` for the main analysis and `scanpy` to cluster the cell-types in \n",
    "our unsupervised analysis."
   ]
  },
  {
   "cell_type": "code",
   "execution_count": null,
   "id": "2cfab6db",
   "metadata": {},
   "outputs": [],
   "source": [
    "# Don't try this at home!\n",
    "# Usually you do want to notice if warnings come up!\n",
    "import warnings\n",
    "\n",
    "from tqdm import TqdmWarning\n",
    "\n",
    "warnings.filterwarnings(\"ignore\", category=FutureWarning)\n",
    "warnings.filterwarnings(\"ignore\", category=TqdmWarning)"
   ]
  },
  {
   "cell_type": "code",
   "execution_count": null,
   "id": "2fc172ac-266d-419a-bbbe-8e972dddb176",
   "metadata": {},
   "outputs": [],
   "source": [
    "from pathlib import Path\n",
    "\n",
    "import pandas as pd\n",
    "import scanpy as sc\n",
    "from sainsc.io import read_Xenium\n",
    "from sainsc.utils import celltype_signatures"
   ]
  },
  {
   "cell_type": "markdown",
   "id": "579ae0d8-8476-40cb-970b-610cf5b12738",
   "metadata": {},
   "source": [
    "First we define the paths to our directory where we keep the Xenium sample that we want \n",
    "to analyze."
   ]
  },
  {
   "cell_type": "code",
   "execution_count": null,
   "id": "6de06d54-2493-4ade-ac8b-f8d1aee14689",
   "metadata": {
    "editable": true,
    "slideshow": {
     "slide_type": ""
    },
    "tags": []
   },
   "outputs": [],
   "source": [
    "# TODO: adjust to the correct path\n",
    "data_path = Path(\"/data/spatial_workshop/day1/\")\n",
    "\n",
    "sample_path = data_path / \"Xenium_V1_FFPE_TgCRND8_17_9_months_outs\""
   ]
  },
  {
   "cell_type": "markdown",
   "id": "b65d78df",
   "metadata": {},
   "source": [
    "Before we start it is good to get a brief overview of the two main Classes in `sainsc`.\n",
    "\n",
    "1. [`GridCounts`](https://sainsc.readthedocs.io/page/autoapi/sainsc/GridCounts.html):\n",
    "This class holds the data as a dictionary of sparse matrices of the same \n",
    "shape. You rarely will need to interact with it directly unless you want to, filter the\n",
    "genes or crop/mask the sample. It mostly behaves like a Python dictionary but is implemented\n",
    "in Rust. Therefore, iterating over the count matrices of each gene might be slow as the \n",
    "data needs to be transformed every time.\n",
    "2. [`LazyKDE`](https://sainsc.readthedocs.io/page/autoapi/sainsc/LazyKDE.html): This is the class that you mostly will interact with. It contains a `GridCounts`\n",
    "instance in its `counts` attribute and otherwise exposes almost all methods necessary to\n",
    "perform the analysis."
   ]
  },
  {
   "cell_type": "markdown",
   "id": "07b80976",
   "metadata": {},
   "source": [
    "We will use the *transcripts.csv.gz* (or *transcripts.parquet*) to load the locations of\n",
    "all identified transcripts. The control probes from the Xenium study will be automatically \n",
    "filtered out.\n",
    "\n",
    "We can furthermore specify the size of the bins we will asign the transcripts into (by \n",
    "default this is set to 0.5 um) and the number of threads we want to use to process the data.\n",
    "\n",
    "There are options to directly load data from common file formats/technologies\n",
    "such as Stereo-seq, Xenium, and Vizgen. If none of the options fit for your use case \n",
    "you can have a look at [`LazyKDE.from_dataframe`](https://sainsc.rtd.io/api/) \n",
    "or [`GridCounts.from_dataframe`](https://sainsc.rtd.io/api) methods."
   ]
  },
  {
   "cell_type": "code",
   "execution_count": null,
   "id": "b8426530-6d0a-44f5-be3f-e4aaf0a61c0c",
   "metadata": {},
   "outputs": [],
   "source": [
    "brain = read_Xenium(sample_path / \"transcripts.csv.gz\", n_threads=8)\n",
    "\n",
    "brain"
   ]
  },
  {
   "cell_type": "markdown",
   "id": "26392404",
   "metadata": {},
   "source": [
    "The `LazyKDE` object will give us some useful information when we print it; including\n",
    "the number of genes, the size of the sample in pixels and the resolution.\n",
    "\n",
    "Next we can get a quick overview of our sample by calculating the total mRNA and plotting\n",
    "it. If we can squint our eyes, we can notice some technical artifacts; the mRNA seems to\n",
    "be lower at certain locations that seem to form a grid, likely along the stitching borders."
   ]
  },
  {
   "cell_type": "code",
   "execution_count": null,
   "id": "86978460-4dc2-4687-a560-d72a71e6428c",
   "metadata": {},
   "outputs": [],
   "source": [
    "brain.calculate_total_mRNA()\n",
    "_ = brain.plot_genecount(im_kwargs={\"vmax\": 2})"
   ]
  },
  {
   "cell_type": "markdown",
   "id": "c5cb57ac-ecdf-4718-b031-fb5c7ef72bda",
   "metadata": {},
   "source": [
    "We can crop our sample to remove some \"dead\" space to further speed up processing or to\n",
    "\"zoom\" into a smaller region of interest (ROI).\n",
    "\n",
    "Alternatively, we could also use the \n",
    "[`GridCounts.filter_mask`](https://sainsc.readthedocs.io/page/autoapi/sainsc/GridCounts.filter_mask.html)\n",
    "method to use an arbitrary binary mask to determine the ROI. All the transcripts outside \n",
    "our ROI will then be dropped. This allows us to filter the ROI to any shape desired."
   ]
  },
  {
   "cell_type": "code",
   "execution_count": null,
   "id": "5fe4477e-4ae1-481f-95de-bbd2d55c6557",
   "metadata": {},
   "outputs": [],
   "source": [
    "brain.counts.crop((500, None), (None, 10_000))\n",
    "\n",
    "brain.calculate_total_mRNA()\n",
    "_ = brain.plot_genecount(im_kwargs={\"vmax\": 2})"
   ]
  },
  {
   "cell_type": "markdown",
   "id": "c80569c2",
   "metadata": {},
   "source": [
    "It is always a good idea to also check the distribution of transcripts detected per gene."
   ]
  },
  {
   "cell_type": "code",
   "execution_count": null,
   "id": "fb426ac7-ba2a-4a2c-9cc8-301a2e9a4ad9",
   "metadata": {},
   "outputs": [],
   "source": [
    "_ = brain.plot_genecount_histogram()"
   ]
  },
  {
   "cell_type": "markdown",
   "id": "aeef9e92-1342-4099-b5de-8c8e772e526f",
   "metadata": {},
   "source": [
    "The kernel defines on how we will smooth the gene expression. The go-to choice is to use\n",
    "a gaussian kernel, however any square `numpy.ndarray` can be used.\n",
    "\n",
    "The size of the kernel can either be defined in pixels or in µm (if the resolution is set). \n",
    "\n",
    "The required kernel size may depend on the technology. Here, we will use 2.5 µm."
   ]
  },
  {
   "cell_type": "code",
   "execution_count": null,
   "id": "527a04b3-9246-46b3-bfcc-c37d34a13683",
   "metadata": {},
   "outputs": [],
   "source": [
    "brain.gaussian_kernel(2.5, unit=\"um\")"
   ]
  },
  {
   "cell_type": "markdown",
   "id": "3a7e2a93-9e5c-4b0e-945e-f8b24fce30e1",
   "metadata": {},
   "source": [
    "Now we can first smooth the total mRNA and visualize it."
   ]
  },
  {
   "cell_type": "code",
   "execution_count": null,
   "id": "de387649-b3d8-4785-8bc0-b78f108fa2d3",
   "metadata": {},
   "outputs": [],
   "source": [
    "brain.calculate_total_mRNA_KDE()\n",
    "_ = brain.plot_KDE()"
   ]
  },
  {
   "cell_type": "markdown",
   "id": "ee6b25c4",
   "metadata": {},
   "source": [
    "The distribtuion of the smoothed gene expression can be used to determine a threshold to\n",
    "use for filtering out background noise. Here, a value of ~ 0.02 seems to be a good \n",
    "first choice."
   ]
  },
  {
   "cell_type": "code",
   "execution_count": null,
   "id": "f19dc618-4054-46a0-80ff-e197336a4b04",
   "metadata": {},
   "outputs": [],
   "source": [
    "_ = brain.plot_KDE_histogram(bins=200)"
   ]
  },
  {
   "cell_type": "code",
   "execution_count": null,
   "id": "92925d85-a48b-4afd-95e2-0bc12e2356fc",
   "metadata": {},
   "outputs": [],
   "source": [
    "_ = brain.plot_KDE_histogram(bins=100, range=(0, 0.1))"
   ]
  },
  {
   "cell_type": "markdown",
   "id": "1f30614f-5320-477e-a6df-9889a60ef13c",
   "metadata": {},
   "source": [
    "Even though in the images above it looked like the background was empty, adjusting the \n",
    "color scale will quickly prove us that this is not the case.\n",
    "\n",
    "Here, masking the ROI could be used to completely remove those counts.\n",
    "Filtering the background, on the other side, will only affect the visualization \n",
    "but not the processing."
   ]
  },
  {
   "cell_type": "code",
   "execution_count": null,
   "id": "032a193e-bd3a-4e9a-91e1-a5e6f93fd2f7",
   "metadata": {},
   "outputs": [],
   "source": [
    "_ = brain.plot_KDE(im_kwargs={\"vmax\": 0.02})"
   ]
  },
  {
   "cell_type": "markdown",
   "id": "81a47770-b8f6-4405-b61b-f37794e19b40",
   "metadata": {},
   "source": [
    "Now we can filter the background. Note, that later we can further refine this and define\n",
    "background filter on the total mRNA KDE per cell type. "
   ]
  },
  {
   "cell_type": "code",
   "execution_count": null,
   "id": "519f2957-a59c-43bb-8b10-e2b749dcb78a",
   "metadata": {},
   "outputs": [],
   "source": [
    "brain.filter_background(0.02)"
   ]
  },
  {
   "cell_type": "markdown",
   "id": "81e3b6a8-644d-49bf-b1ef-052f632ee787",
   "metadata": {},
   "source": [
    "## Unsupervised analysis"
   ]
  },
  {
   "cell_type": "markdown",
   "id": "d9cde563",
   "metadata": {},
   "source": [
    "To generate the cell-type map we will need a set of gene expression signatures.\n",
    "These can either be derived from previous studies e.g. scRNAseq or we can identify them \n",
    "*de novo* from the sample we are analysing.\n",
    "\n",
    "The *de novo* approach works by finding the local maxima of the gene expression and \n",
    "treating these as proxies for cells. We can then use standard single-cell/spatial workflows \n",
    "to process and cluster the cells. The cell-types indentified in the clustering can then \n",
    "be used to calculate the gene expression signatures."
   ]
  },
  {
   "cell_type": "markdown",
   "id": "b653f832",
   "metadata": {},
   "source": [
    "The first step is to identify the local maxiam, we set a minimum distance to avoid \n",
    "sampling too many close-by spots."
   ]
  },
  {
   "cell_type": "code",
   "execution_count": null,
   "id": "15543958-c94f-491e-a7eb-87a59cdd553a",
   "metadata": {},
   "outputs": [],
   "source": [
    "brain.find_local_maxima(5)\n",
    "brain"
   ]
  },
  {
   "cell_type": "markdown",
   "id": "5fe6c770-0546-4638-8536-ee7ce2b9e167",
   "metadata": {},
   "source": [
    "### Find cell-type signatures"
   ]
  },
  {
   "cell_type": "markdown",
   "id": "b4286153",
   "metadata": {},
   "source": [
    "Next we can load the local maxima into and `AnnData` object and then proceed to identify\n",
    "clusters."
   ]
  },
  {
   "cell_type": "code",
   "execution_count": null,
   "id": "e6ea8323-19b0-49e9-a541-65cf6f53e973",
   "metadata": {},
   "outputs": [],
   "source": [
    "local_max = brain.load_local_maxima()\n",
    "local_max"
   ]
  },
  {
   "cell_type": "code",
   "execution_count": null,
   "id": "04ad0aa0-22f3-49a6-9f80-af517b8559e7",
   "metadata": {},
   "outputs": [],
   "source": [
    "# for reproducibility\n",
    "random_state = 42"
   ]
  },
  {
   "cell_type": "code",
   "execution_count": null,
   "id": "bec64d96-df97-4501-8bb6-f0912db65df5",
   "metadata": {},
   "outputs": [],
   "source": [
    "sc.pp.normalize_total(local_max)"
   ]
  },
  {
   "cell_type": "code",
   "execution_count": null,
   "id": "6327ee74-7ab5-4e6a-b3fa-230e4973346d",
   "metadata": {},
   "outputs": [],
   "source": [
    "local_max.layers[\"counts\"] = local_max.X.copy()"
   ]
  },
  {
   "cell_type": "code",
   "execution_count": null,
   "id": "5855bffb-c80e-49a5-856f-6f9228ad300a",
   "metadata": {},
   "outputs": [],
   "source": [
    "sc.pp.log1p(local_max)\n",
    "sc.pp.pca(local_max, random_state=random_state)\n",
    "sc.pp.neighbors(local_max, random_state=random_state)\n",
    "sc.tl.umap(local_max, random_state=random_state)"
   ]
  },
  {
   "cell_type": "code",
   "execution_count": null,
   "id": "9c01c5e7-0362-4615-9fc0-98d9ced5963c",
   "metadata": {},
   "outputs": [],
   "source": [
    "sc.tl.leiden(local_max, resolution=2, flavor=\"igraph\", random_state=random_state)\n",
    "\n",
    "sc.pl.umap(local_max, color=\"leiden\")"
   ]
  },
  {
   "cell_type": "markdown",
   "id": "85abd62c",
   "metadata": {},
   "source": [
    "After we have identified our cell-types/clusters we can easily calculate the gene expression\n",
    "signatures.\n",
    "\n",
    "Note, the gene expression signatures should be strictly positive i.e. they should not be \n",
    "calculated from data that has been standardized or similar."
   ]
  },
  {
   "cell_type": "markdown",
   "id": "41febe56-f961-4b7a-aa07-8e329af8a628",
   "metadata": {},
   "source": [
    "The following code cell can be ignored (you still need to run it but do not pay to much attention), it is just a currently not yet released improvement to reduce the memory usage when calculating the cell-type signatures."
   ]
  },
  {
   "cell_type": "code",
   "execution_count": null,
   "id": "aa50ced1-fd6c-4246-a5a7-c785ab13b9fb",
   "metadata": {
    "editable": true,
    "slideshow": {
     "slide_type": ""
    },
    "tags": []
   },
   "outputs": [],
   "source": [
    "# please ignore, unreleased improvements for sainsc \n",
    "\n",
    "from collections.abc import Hashable\n",
    "\n",
    "import anndata as ad\n",
    "import numpy as np\n",
    "import pandas as pd\n",
    "from numpy.typing import DTypeLike\n",
    "\n",
    "\n",
    "def celltype_signatures(\n",
    "    adata: ad.AnnData,\n",
    "    *,\n",
    "    celltype_col: str = \"leiden\",\n",
    "    layer: str | None = None,\n",
    "    dtype: DTypeLike = np.float32,\n",
    ") -> pd.DataFrame:\n",
    "    \"\"\"\n",
    "    Calculate gene expression signatures per 'cell type'.\n",
    "\n",
    "    Parameters\n",
    "    ----------\n",
    "    adata : anndata.AnnData\n",
    "    celltype_col : str, optional\n",
    "        Name of column in :py:attr:`anndata.AnnData.obs` containing cell-type\n",
    "        information.\n",
    "    layer : str, optional\n",
    "        Which :py:attr:`anndata.AnnData.layers` to use for aggregation. If `None`,\n",
    "        :py:attr:`anndata.AnnData.X` is used.\n",
    "    dytpe : numpy.typing.DTypeLike\n",
    "        Data type to use for the signatures.\n",
    "\n",
    "    Returns\n",
    "    -------\n",
    "    pandas.DataFrame\n",
    "        :py:class:`pandas.DataFrame` of gene expression aggregated per 'cell type'.\n",
    "    \"\"\"\n",
    "    X = adata.X if layer is None else adata.layers[layer]\n",
    "    grouping = adata.obs.groupby(celltype_col, observed=True, sort=False).indices\n",
    "\n",
    "    signatures: dict[Hashable, np.ndarray] = {}\n",
    "    for name, indices in grouping.items():\n",
    "        mean_X_group = X[indices].mean(axis=0, dtype=dtype)\n",
    "        signatures[name] = (\n",
    "            mean_X_group.A1 if isinstance(mean_X_group, np.matrix) else mean_X_group\n",
    "        )\n",
    "\n",
    "    return pd.DataFrame(signatures, index=adata.var_names)"
   ]
  },
  {
   "cell_type": "code",
   "execution_count": null,
   "id": "e39b3e6a-fd30-4b31-9fe7-49b4b799a80b",
   "metadata": {
    "editable": true,
    "slideshow": {
     "slide_type": ""
    },
    "tags": []
   },
   "outputs": [],
   "source": [
    "signatures = celltype_signatures(local_max, celltype_col=\"leiden\")"
   ]
  },
  {
   "cell_type": "markdown",
   "id": "a0d2c0bc-13ad-43d4-8d41-95ec1a8ab972",
   "metadata": {},
   "source": [
    "### Generate cell-type map"
   ]
  },
  {
   "cell_type": "markdown",
   "id": "a87b7a4a",
   "metadata": {},
   "source": [
    "To generate the cell-type map we just need to pass the signature DataFrame to the `assign_celltype` method.\n",
    "\n",
    "If the gene expression varies across multiple orders of magnitude across genes it might be useful to\n",
    "use log-transformation after calculating the KDE. In this case the gene expression \n",
    "signatures should be calculated from log-transformed data, as well."
   ]
  },
  {
   "cell_type": "code",
   "execution_count": null,
   "id": "7de5a326-86b9-4f76-b8b5-001155bc5dc3",
   "metadata": {},
   "outputs": [],
   "source": [
    "brain.assign_celltype(signatures, log=True)"
   ]
  },
  {
   "cell_type": "code",
   "execution_count": null,
   "id": "76abdfcb-b8e5-4db8-9b96-6f9ade305664",
   "metadata": {
    "editable": true,
    "slideshow": {
     "slide_type": ""
    },
    "tags": []
   },
   "outputs": [],
   "source": [
    "# maintain the same coloring as in UMAP\n",
    "cmap = {\n",
    "    cluster: color\n",
    "    for cluster, color in zip(\n",
    "        local_max.obs[\"leiden\"].cat.categories, local_max.uns[\"leiden_colors\"]\n",
    "    )\n",
    "}"
   ]
  },
  {
   "cell_type": "markdown",
   "id": "0ff5bd5e",
   "metadata": {
    "editable": true,
    "slideshow": {
     "slide_type": ""
    },
    "tags": []
   },
   "source": [
    "We can now visualize our cell-type map."
   ]
  },
  {
   "cell_type": "code",
   "execution_count": null,
   "id": "9a3dfdc0-3417-4b60-9466-5e739146189d",
   "metadata": {},
   "outputs": [],
   "source": [
    "_ = brain.plot_celltype_map(cmap=cmap)"
   ]
  },
  {
   "cell_type": "markdown",
   "id": "07cfac19",
   "metadata": {},
   "source": [
    "The assignment score can be helpful to identify regions with low confidence in the cell-type\n",
    "assignment. This is especially useful when using pre-existing cell-type signatures as it \n",
    "might highlight regions where we couldn't map any cell-type with high confidence and therefore\n",
    "might indicate that cell-types are missing in the reference."
   ]
  },
  {
   "cell_type": "code",
   "execution_count": null,
   "id": "03aae803-71e3-4950-9dd2-9319aea53694",
   "metadata": {},
   "outputs": [],
   "source": [
    "_ = brain.plot_assignment_score(remove_background=True)"
   ]
  },
  {
   "cell_type": "code",
   "execution_count": null,
   "id": "68a6540c-a184-4dd7-a8c1-d1b784abf0c6",
   "metadata": {},
   "outputs": [],
   "source": [
    "kde_per_celltype = pd.DataFrame(\n",
    "    {\n",
    "        \"kde\": brain.total_mRNA_KDE.flatten(),\n",
    "        \"celltype\": pd.Categorical.from_codes(\n",
    "            brain.celltype_map.flatten(), categories=brain.celltypes\n",
    "        ),\n",
    "    }\n",
    ").dropna()\n",
    "\n",
    "celltype_threshold = (\n",
    "    kde_per_celltype.groupby(\"celltype\", observed=True).quantile(0.5)[\"kde\"] / 2\n",
    ").to_dict()\n",
    "\n",
    "min_t = 0.02\n",
    "\n",
    "celltype_threshold = {\n",
    "    ct: (t if t > min_t else min_t) for ct, t in celltype_threshold.items()\n",
    "}\n",
    "\n",
    "brain.filter_background(celltype_threshold)"
   ]
  },
  {
   "cell_type": "code",
   "execution_count": null,
   "id": "106ccb7d-cc89-4cad-9008-a9ddf8a99a23",
   "metadata": {},
   "outputs": [],
   "source": [
    "_ = brain.plot_celltype_map(cmap=cmap)"
   ]
  },
  {
   "cell_type": "markdown",
   "id": "702a16b0-da53-452e-8579-a35048566871",
   "metadata": {},
   "source": [
    "We can zoom-in by defining the ROI that we want to plot. "
   ]
  },
  {
   "cell_type": "code",
   "execution_count": null,
   "id": "230dc2dd-a73d-4068-acc4-0ebb574194e5",
   "metadata": {},
   "outputs": [],
   "source": [
    "roi = ((1_000, 4_500), (4_000, 6_000))\n",
    "\n",
    "_ = brain.plot_celltype_map(cmap=cmap, crop=roi, scalebar_kwargs={\"box_alpha\": 0.7})"
   ]
  },
  {
   "cell_type": "markdown",
   "id": "3b2204d7-3d0d-4446-ad7c-ed638712bf19",
   "metadata": {},
   "source": [
    "We can also highlight only one/few cell-types by removing the rest from the colormap."
   ]
  },
  {
   "cell_type": "code",
   "execution_count": null,
   "id": "5791a001-abc9-47a9-8f2c-5f3094772906",
   "metadata": {},
   "outputs": [],
   "source": [
    "cmap2 = {\"0\": \"yellow\"}\n",
    "\n",
    "_ = brain.plot_celltype_map(cmap=cmap2, crop=roi, scalebar_kwargs={\"box_alpha\": 0.7})"
   ]
  },
  {
   "cell_type": "markdown",
   "id": "efaa2ce2",
   "metadata": {
    "vscode": {
     "languageId": "raw"
    }
   },
   "source": [
    "Visualizing the gene expression can help rationalizing the assigned cell-types."
   ]
  },
  {
   "cell_type": "code",
   "execution_count": null,
   "id": "4febcf73-7948-4fc7-8c3d-af054fdea10f",
   "metadata": {},
   "outputs": [],
   "source": [
    "_ = brain.plot_KDE(gene=signatures[\"0\"].idxmax(), crop=roi)"
   ]
  },
  {
   "cell_type": "code",
   "execution_count": null,
   "id": "226a79d4-46d8-4f9d-ac1d-81960eab413e",
   "metadata": {},
   "outputs": [],
   "source": [
    "_ = brain.plot_KDE(gene=signatures[\"18\"].idxmax(), crop=roi)"
   ]
  },
  {
   "cell_type": "markdown",
   "id": "d7ba2e70",
   "metadata": {},
   "source": [
    "## Bonus task: Supervised analysis"
   ]
  },
  {
   "cell_type": "markdown",
   "id": "9afdb261-427d-4849-ae06-80f36c9253c8",
   "metadata": {},
   "source": [
    "Try using `sainsc` for a supervised analysis leveraging the cell-type signatures obtained from your previous segmentation-based analysis workflow."
   ]
  }
 ],
 "metadata": {
  "kernelspec": {
   "display_name": "p1_segmentation_sainsc",
   "language": "python",
   "name": "p1_segmentation_sainsc"
  },
  "language_info": {
   "codemirror_mode": {
    "name": "ipython",
    "version": 3
   },
   "file_extension": ".py",
   "mimetype": "text/x-python",
   "name": "python",
   "nbconvert_exporter": "python",
   "pygments_lexer": "ipython3",
   "version": "3.11.11"
  }
 },
 "nbformat": 4,
 "nbformat_minor": 5
}
